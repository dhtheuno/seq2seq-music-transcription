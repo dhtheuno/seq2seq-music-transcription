{
 "cells": [
  {
   "cell_type": "code",
   "execution_count": 1,
   "metadata": {},
   "outputs": [],
   "source": [
    "import torch\n",
    "from data import run_length_encoding\n",
    "from data import event_codec\n",
    "from data import vocabularies\n",
    "from data import spectrograms\n",
    "from data import note_sequences\n",
    "import note_seq\n",
    "import numpy as np\n",
    "import pretty_midi\n",
    "import sklearn\n",
    "from typing import Callable, Mapping, Optional, Sequence, Tuple\n",
    "import editdistance\n",
    "import mir_eval\n",
    "import librosa\n",
    "from utils import _audio_to_frames, AttrDict\n",
    "from model.ListenAttendSpell import ListenAttendSpell \n",
    "from tqdm import tqdm\n",
    "import yaml\n",
    "import functools\n",
    "from evaluation import *\n",
    "import os \n",
    "\n",
    "import librosa.display\n",
    "import matplotlib.pyplot as plt"
   ]
  },
  {
   "cell_type": "code",
   "execution_count": 2,
   "metadata": {},
   "outputs": [],
   "source": [
    "with open('config/model.yaml', 'r') as f:\n",
    "    file_config = yaml.safe_load(f)\n",
    "config = AttrDict(file_config)\n",
    "config.training.beam_size = 2\n",
    "codec = event_codec.Codec(\n",
    "        max_shift_steps=300,\n",
    "        steps_per_second=100,\n",
    "        event_ranges=[\n",
    "                event_codec.EventRange('pitch', note_seq.MIN_MIDI_PITCH,\n",
    "                            note_seq.MAX_MIDI_PITCH),\n",
    "                event_codec.EventRange('velocity', 0, 127)\n",
    "        ])\n",
    "vocab = vocabularies.vocabulary_from_codec(codec)\n",
    "spectrogram_config = spectrograms.SpectrogramConfig()"
   ]
  },
  {
   "cell_type": "code",
   "execution_count": 3,
   "metadata": {},
   "outputs": [],
   "source": [
    "model_states = torch.load(\"/home/ubuntu/seq2seq-music-transcription/MAESTRO/maestro/exp/las_model/las_model.epoch6799.chkpt\", map_location=torch.device('cuda'))\n",
    "model = ListenAttendSpell.load_model(model_states)"
   ]
  },
  {
   "cell_type": "code",
   "execution_count": 14,
   "metadata": {},
   "outputs": [],
   "source": [
    "final_files, midi_files = get_test_files('/home/ubuntu/seq2seq-music-transcription/data/MAESTRO/maestro-v1.0.0.csv')"
   ]
  },
  {
   "cell_type": "code",
   "execution_count": 20,
   "metadata": {},
   "outputs": [],
   "source": [
    "audio_path = final_files[0].replace(\"_test.pt\", \".wav\")"
   ]
  },
  {
   "cell_type": "code",
   "execution_count": 21,
   "metadata": {},
   "outputs": [],
   "source": [
    "segmented_frames, segmented_times = segmentize_audio(audio_path, spectrogram_config)\n",
    "segmented_spec=[]\n",
    "for i in segmented_frames:\n",
    "    j = make_spectrogram(i, spectrogram_config)\n",
    "    segmented_spec.append(j)"
   ]
  },
  {
   "cell_type": "code",
   "execution_count": 22,
   "metadata": {},
   "outputs": [
    {
     "name": "stderr",
     "output_type": "stream",
     "text": [
      " 54%|█████▍    | 135/251 [04:20<03:43,  1.93s/it]\n"
     ]
    },
    {
     "ename": "KeyboardInterrupt",
     "evalue": "",
     "output_type": "error",
     "traceback": [
      "\u001b[0;31m---------------------------------------------------------------------------\u001b[0m",
      "\u001b[0;31mKeyboardInterrupt\u001b[0m                         Traceback (most recent call last)",
      "\u001b[0;32m/tmp/ipykernel_22403/459075624.py\u001b[0m in \u001b[0;36m<cell line: 1>\u001b[0;34m()\u001b[0m\n\u001b[0;32m----> 1\u001b[0;31m \u001b[0mpred_ns\u001b[0m \u001b[0;34m=\u001b[0m \u001b[0mmake_pred_ns\u001b[0m\u001b[0;34m(\u001b[0m\u001b[0msegmented_spec\u001b[0m\u001b[0;34m,\u001b[0m \u001b[0msegmented_times\u001b[0m\u001b[0;34m,\u001b[0m \u001b[0mcodec\u001b[0m\u001b[0;34m,\u001b[0m \u001b[0mvocab\u001b[0m\u001b[0;34m,\u001b[0m \u001b[0mmodel\u001b[0m\u001b[0;34m,\u001b[0m \u001b[0mconfig\u001b[0m\u001b[0;34m)\u001b[0m\u001b[0;34m\u001b[0m\u001b[0;34m\u001b[0m\u001b[0m\n\u001b[0m",
      "\u001b[0;32m~/seq2seq-music-transcription/evaluation.py\u001b[0m in \u001b[0;36mmake_pred_ns\u001b[0;34m(audio_data, times, codec, vocab, model, config, is_gpu)\u001b[0m\n\u001b[1;32m    148\u001b[0m             \u001b[0minput\u001b[0m \u001b[0;34m=\u001b[0m \u001b[0minput\u001b[0m\u001b[0;34m.\u001b[0m\u001b[0mcuda\u001b[0m\u001b[0;34m(\u001b[0m\u001b[0;34m)\u001b[0m\u001b[0;34m\u001b[0m\u001b[0;34m\u001b[0m\u001b[0m\n\u001b[1;32m    149\u001b[0m             \u001b[0;31m#input_length = input_length.cuda()\u001b[0m\u001b[0;34m\u001b[0m\u001b[0;34m\u001b[0m\u001b[0;34m\u001b[0m\u001b[0m\n\u001b[0;32m--> 150\u001b[0;31m         \u001b[0moutput\u001b[0m \u001b[0;34m=\u001b[0m \u001b[0mmodel\u001b[0m\u001b[0;34m.\u001b[0m\u001b[0mrecognize\u001b[0m\u001b[0;34m(\u001b[0m\u001b[0minput\u001b[0m\u001b[0;34m,\u001b[0m \u001b[0minput_length\u001b[0m\u001b[0;34m,\u001b[0m \u001b[0mconfig\u001b[0m\u001b[0;34m.\u001b[0m\u001b[0mtraining\u001b[0m\u001b[0;34m)\u001b[0m\u001b[0;34m\u001b[0m\u001b[0;34m\u001b[0m\u001b[0m\n\u001b[0m\u001b[1;32m    151\u001b[0m         \u001b[0;31m#print(output)\u001b[0m\u001b[0;34m\u001b[0m\u001b[0;34m\u001b[0m\u001b[0;34m\u001b[0m\u001b[0m\n\u001b[1;32m    152\u001b[0m         \u001b[0mevents\u001b[0m \u001b[0;34m=\u001b[0m \u001b[0mvocab\u001b[0m\u001b[0;34m.\u001b[0m\u001b[0m_decode\u001b[0m\u001b[0;34m(\u001b[0m\u001b[0moutput\u001b[0m\u001b[0;34m)\u001b[0m\u001b[0;34m\u001b[0m\u001b[0;34m\u001b[0m\u001b[0m\n",
      "\u001b[0;32m~/anaconda3/envs/pytorch_p38/lib/python3.8/site-packages/torch/autograd/grad_mode.py\u001b[0m in \u001b[0;36mdecorate_context\u001b[0;34m(*args, **kwargs)\u001b[0m\n\u001b[1;32m     26\u001b[0m         \u001b[0;32mdef\u001b[0m \u001b[0mdecorate_context\u001b[0m\u001b[0;34m(\u001b[0m\u001b[0;34m*\u001b[0m\u001b[0margs\u001b[0m\u001b[0;34m,\u001b[0m \u001b[0;34m**\u001b[0m\u001b[0mkwargs\u001b[0m\u001b[0;34m)\u001b[0m\u001b[0;34m:\u001b[0m\u001b[0;34m\u001b[0m\u001b[0;34m\u001b[0m\u001b[0m\n\u001b[1;32m     27\u001b[0m             \u001b[0;32mwith\u001b[0m \u001b[0mself\u001b[0m\u001b[0;34m.\u001b[0m\u001b[0m__class__\u001b[0m\u001b[0;34m(\u001b[0m\u001b[0;34m)\u001b[0m\u001b[0;34m:\u001b[0m\u001b[0;34m\u001b[0m\u001b[0;34m\u001b[0m\u001b[0m\n\u001b[0;32m---> 28\u001b[0;31m                 \u001b[0;32mreturn\u001b[0m \u001b[0mfunc\u001b[0m\u001b[0;34m(\u001b[0m\u001b[0;34m*\u001b[0m\u001b[0margs\u001b[0m\u001b[0;34m,\u001b[0m \u001b[0;34m**\u001b[0m\u001b[0mkwargs\u001b[0m\u001b[0;34m)\u001b[0m\u001b[0;34m\u001b[0m\u001b[0;34m\u001b[0m\u001b[0m\n\u001b[0m\u001b[1;32m     29\u001b[0m         \u001b[0;32mreturn\u001b[0m \u001b[0mcast\u001b[0m\u001b[0;34m(\u001b[0m\u001b[0mF\u001b[0m\u001b[0;34m,\u001b[0m \u001b[0mdecorate_context\u001b[0m\u001b[0;34m)\u001b[0m\u001b[0;34m\u001b[0m\u001b[0;34m\u001b[0m\u001b[0m\n\u001b[1;32m     30\u001b[0m \u001b[0;34m\u001b[0m\u001b[0m\n",
      "\u001b[0;32m~/seq2seq-music-transcription/model/ListenAttendSpell.py\u001b[0m in \u001b[0;36mrecognize\u001b[0;34m(self, input, input_length, config, batch, gpu)\u001b[0m\n\u001b[1;32m     23\u001b[0m     \u001b[0;32mdef\u001b[0m \u001b[0mrecognize\u001b[0m\u001b[0;34m(\u001b[0m\u001b[0mself\u001b[0m\u001b[0;34m,\u001b[0m \u001b[0minput\u001b[0m\u001b[0;34m,\u001b[0m \u001b[0minput_length\u001b[0m\u001b[0;34m,\u001b[0m \u001b[0mconfig\u001b[0m\u001b[0;34m,\u001b[0m \u001b[0mbatch\u001b[0m\u001b[0;34m=\u001b[0m\u001b[0;32mFalse\u001b[0m\u001b[0;34m,\u001b[0m \u001b[0mgpu\u001b[0m\u001b[0;34m=\u001b[0m\u001b[0;32mFalse\u001b[0m\u001b[0;34m)\u001b[0m\u001b[0;34m:\u001b[0m\u001b[0;34m\u001b[0m\u001b[0;34m\u001b[0m\u001b[0m\n\u001b[1;32m     24\u001b[0m         \u001b[0;32mif\u001b[0m \u001b[0;32mnot\u001b[0m \u001b[0mbatch\u001b[0m\u001b[0;34m:\u001b[0m\u001b[0;34m\u001b[0m\u001b[0;34m\u001b[0m\u001b[0m\n\u001b[0;32m---> 25\u001b[0;31m             \u001b[0mencoder_outputs\u001b[0m\u001b[0;34m,\u001b[0m \u001b[0m_\u001b[0m \u001b[0;34m=\u001b[0m \u001b[0mself\u001b[0m\u001b[0;34m.\u001b[0m\u001b[0mencoder\u001b[0m\u001b[0;34m(\u001b[0m\u001b[0minput\u001b[0m\u001b[0;34m.\u001b[0m\u001b[0munsqueeze\u001b[0m\u001b[0;34m(\u001b[0m\u001b[0;36m0\u001b[0m\u001b[0;34m)\u001b[0m\u001b[0;34m,\u001b[0m \u001b[0minput_length\u001b[0m\u001b[0;34m)\u001b[0m\u001b[0;34m\u001b[0m\u001b[0;34m\u001b[0m\u001b[0m\n\u001b[0m\u001b[1;32m     26\u001b[0m             \u001b[0moutput\u001b[0m \u001b[0;34m=\u001b[0m \u001b[0mself\u001b[0m\u001b[0;34m.\u001b[0m\u001b[0mdecoder\u001b[0m\u001b[0;34m.\u001b[0m\u001b[0mgreedy_decoding\u001b[0m\u001b[0;34m(\u001b[0m\u001b[0mencoder_outputs\u001b[0m\u001b[0;34m[\u001b[0m\u001b[0;36m0\u001b[0m\u001b[0;34m]\u001b[0m\u001b[0;34m)\u001b[0m\u001b[0;34m\u001b[0m\u001b[0;34m\u001b[0m\u001b[0m\n\u001b[1;32m     27\u001b[0m             \u001b[0;32mreturn\u001b[0m \u001b[0moutput\u001b[0m\u001b[0;34m\u001b[0m\u001b[0;34m\u001b[0m\u001b[0m\n",
      "\u001b[0;32m~/anaconda3/envs/pytorch_p38/lib/python3.8/site-packages/torch/nn/modules/module.py\u001b[0m in \u001b[0;36m_call_impl\u001b[0;34m(self, *input, **kwargs)\u001b[0m\n\u001b[1;32m   1100\u001b[0m         if not (self._backward_hooks or self._forward_hooks or self._forward_pre_hooks or _global_backward_hooks\n\u001b[1;32m   1101\u001b[0m                 or _global_forward_hooks or _global_forward_pre_hooks):\n\u001b[0;32m-> 1102\u001b[0;31m             \u001b[0;32mreturn\u001b[0m \u001b[0mforward_call\u001b[0m\u001b[0;34m(\u001b[0m\u001b[0;34m*\u001b[0m\u001b[0minput\u001b[0m\u001b[0;34m,\u001b[0m \u001b[0;34m**\u001b[0m\u001b[0mkwargs\u001b[0m\u001b[0;34m)\u001b[0m\u001b[0;34m\u001b[0m\u001b[0;34m\u001b[0m\u001b[0m\n\u001b[0m\u001b[1;32m   1103\u001b[0m         \u001b[0;31m# Do not call functions when jit is used\u001b[0m\u001b[0;34m\u001b[0m\u001b[0;34m\u001b[0m\u001b[0;34m\u001b[0m\u001b[0m\n\u001b[1;32m   1104\u001b[0m         \u001b[0mfull_backward_hooks\u001b[0m\u001b[0;34m,\u001b[0m \u001b[0mnon_full_backward_hooks\u001b[0m \u001b[0;34m=\u001b[0m \u001b[0;34m[\u001b[0m\u001b[0;34m]\u001b[0m\u001b[0;34m,\u001b[0m \u001b[0;34m[\u001b[0m\u001b[0;34m]\u001b[0m\u001b[0;34m\u001b[0m\u001b[0;34m\u001b[0m\u001b[0m\n",
      "\u001b[0;32m~/seq2seq-music-transcription/model/encoder.py\u001b[0m in \u001b[0;36mforward\u001b[0;34m(self, inputs, input_lengths)\u001b[0m\n\u001b[1;32m     31\u001b[0m             batch_first = True)\n\u001b[1;32m     32\u001b[0m \u001b[0;34m\u001b[0m\u001b[0m\n\u001b[0;32m---> 33\u001b[0;31m         \u001b[0mpacked_outputs\u001b[0m\u001b[0;34m,\u001b[0m \u001b[0mencoder_outputs\u001b[0m \u001b[0;34m=\u001b[0m \u001b[0mself\u001b[0m\u001b[0;34m.\u001b[0m\u001b[0mrnn\u001b[0m\u001b[0;34m(\u001b[0m\u001b[0mpacked_inputs\u001b[0m\u001b[0;34m)\u001b[0m\u001b[0;34m\u001b[0m\u001b[0;34m\u001b[0m\u001b[0m\n\u001b[0m\u001b[1;32m     34\u001b[0m         outputs, _ = pad_packed_sequence(\n\u001b[1;32m     35\u001b[0m             \u001b[0mpacked_outputs\u001b[0m\u001b[0;34m,\u001b[0m\u001b[0;34m\u001b[0m\u001b[0;34m\u001b[0m\u001b[0m\n",
      "\u001b[0;32m~/anaconda3/envs/pytorch_p38/lib/python3.8/site-packages/torch/nn/modules/module.py\u001b[0m in \u001b[0;36m_call_impl\u001b[0;34m(self, *input, **kwargs)\u001b[0m\n\u001b[1;32m   1100\u001b[0m         if not (self._backward_hooks or self._forward_hooks or self._forward_pre_hooks or _global_backward_hooks\n\u001b[1;32m   1101\u001b[0m                 or _global_forward_hooks or _global_forward_pre_hooks):\n\u001b[0;32m-> 1102\u001b[0;31m             \u001b[0;32mreturn\u001b[0m \u001b[0mforward_call\u001b[0m\u001b[0;34m(\u001b[0m\u001b[0;34m*\u001b[0m\u001b[0minput\u001b[0m\u001b[0;34m,\u001b[0m \u001b[0;34m**\u001b[0m\u001b[0mkwargs\u001b[0m\u001b[0;34m)\u001b[0m\u001b[0;34m\u001b[0m\u001b[0;34m\u001b[0m\u001b[0m\n\u001b[0m\u001b[1;32m   1103\u001b[0m         \u001b[0;31m# Do not call functions when jit is used\u001b[0m\u001b[0;34m\u001b[0m\u001b[0;34m\u001b[0m\u001b[0;34m\u001b[0m\u001b[0m\n\u001b[1;32m   1104\u001b[0m         \u001b[0mfull_backward_hooks\u001b[0m\u001b[0;34m,\u001b[0m \u001b[0mnon_full_backward_hooks\u001b[0m \u001b[0;34m=\u001b[0m \u001b[0;34m[\u001b[0m\u001b[0;34m]\u001b[0m\u001b[0;34m,\u001b[0m \u001b[0;34m[\u001b[0m\u001b[0;34m]\u001b[0m\u001b[0;34m\u001b[0m\u001b[0;34m\u001b[0m\u001b[0m\n",
      "\u001b[0;32m~/anaconda3/envs/pytorch_p38/lib/python3.8/site-packages/torch/nn/modules/rnn.py\u001b[0m in \u001b[0;36mforward\u001b[0;34m(self, input, hx)\u001b[0m\n\u001b[1;32m    692\u001b[0m                               self.dropout, self.training, self.bidirectional, self.batch_first)\n\u001b[1;32m    693\u001b[0m         \u001b[0;32melse\u001b[0m\u001b[0;34m:\u001b[0m\u001b[0;34m\u001b[0m\u001b[0;34m\u001b[0m\u001b[0m\n\u001b[0;32m--> 694\u001b[0;31m             result = _VF.lstm(input, batch_sizes, hx, self._flat_weights, self.bias,\n\u001b[0m\u001b[1;32m    695\u001b[0m                               self.num_layers, self.dropout, self.training, self.bidirectional)\n\u001b[1;32m    696\u001b[0m         \u001b[0moutput\u001b[0m \u001b[0;34m=\u001b[0m \u001b[0mresult\u001b[0m\u001b[0;34m[\u001b[0m\u001b[0;36m0\u001b[0m\u001b[0;34m]\u001b[0m\u001b[0;34m\u001b[0m\u001b[0;34m\u001b[0m\u001b[0m\n",
      "\u001b[0;31mKeyboardInterrupt\u001b[0m: "
     ]
    }
   ],
   "source": [
    "pred_ns = make_pred_ns(segmented_spec, segmented_times, codec, vocab, model, config)"
   ]
  },
  {
   "cell_type": "code",
   "execution_count": 15,
   "metadata": {},
   "outputs": [],
   "source": [
    "midi_path = '/Users/donghyunlee/Desktop/encoder_decoder_model/test_data/MIDI-Unprocessed_SMF_02_R1_2004_01-05_ORIG_MID--AUDIO_02_R1_2004_05_Track05_wav.midi'\n",
    "ref_ns = note_seq.midi_file_to_note_sequence(midi_path)\n",
    "note_sequences.validate_note_sequence(ref_ns)\n",
    "ref_ns = note_seq.apply_sustain_control_changes(ref_ns)\n",
    "output_1 = evaluation_mir_eval(ref_ns, pred_ns)"
   ]
  },
  {
   "cell_type": "code",
   "execution_count": 16,
   "metadata": {},
   "outputs": [
    {
     "data": {
      "text/plain": [
       "{'Onset precision': 0.9843219231774236,\n",
       " 'Onset recall': 0.9543957436027363,\n",
       " 'Onset F1': 0.9691278621044507,\n",
       " 'Onset + offset precision': 0.7123072903057225,\n",
       " 'Onset + offset recall': 0.6906511274385609,\n",
       " 'Onset + offset F1': 0.7013120658605608,\n",
       " 'Onset + velocity precision': 0.9619806637052521,\n",
       " 'Onset + velocity recall': 0.932733721814036,\n",
       " 'Onset + velocity F1': 0.9471314638538719,\n",
       " 'Onset + offset + velocity precision': 0.6925790436373138,\n",
       " 'Onset + offset + velocity recall': 0.6715226754497087,\n",
       " 'Onset + offset + velocity F1': 0.6818883457679443}"
      ]
     },
     "execution_count": 16,
     "metadata": {},
     "output_type": "execute_result"
    }
   ],
   "source": [
    "output_1"
   ]
  },
  {
   "cell_type": "markdown",
   "metadata": {},
   "source": [
    "# BATCH TESTING"
   ]
  },
  {
   "cell_type": "code",
   "execution_count": 4,
   "metadata": {},
   "outputs": [],
   "source": [
    "final_files, midi_files = get_test_files('/home/ubuntu/seq2seq-music-transcription/data/MAESTRO/maestro-v1.0.0.csv')"
   ]
  },
  {
   "cell_type": "code",
   "execution_count": 5,
   "metadata": {},
   "outputs": [
    {
     "data": {
      "text/plain": [
       "ListenAttendSpell(\n",
       "  (encoder): Encoder(\n",
       "    (rnn): LSTM(512, 1024, num_layers=4, batch_first=True, dropout=0.2, bidirectional=True)\n",
       "  )\n",
       "  (decoder): Decoder(\n",
       "    (embedding): Embedding(560, 512)\n",
       "    (rnn): ModuleList(\n",
       "      (0): LSTMCell(2560, 2048)\n",
       "    )\n",
       "    (attention): DotProductAttention()\n",
       "    (linear): Sequential(\n",
       "      (0): Linear(in_features=4096, out_features=2048, bias=True)\n",
       "      (1): Tanh()\n",
       "      (2): Linear(in_features=2048, out_features=560, bias=True)\n",
       "    )\n",
       "    (loss): CrossEntropyLoss()\n",
       "  )\n",
       ")"
      ]
     },
     "execution_count": 5,
     "metadata": {},
     "output_type": "execute_result"
    }
   ],
   "source": [
    "model.cuda()\n",
    "model.eval()"
   ]
  },
  {
   "cell_type": "code",
   "execution_count": 6,
   "metadata": {},
   "outputs": [],
   "source": [
    "test_file = final_files[4]\n",
    "data = torch.load(test_file)"
   ]
  },
  {
   "cell_type": "code",
   "execution_count": 7,
   "metadata": {},
   "outputs": [],
   "source": [
    "greedy_batch_ns = make_batch_pred_ns(data, config, codec, vocab, model, is_gpu=True)"
   ]
  },
  {
   "cell_type": "code",
   "execution_count": 8,
   "metadata": {},
   "outputs": [
    {
     "name": "stderr",
     "output_type": "stream",
     "text": [
      "/home/ubuntu/anaconda3/envs/pytorch_p38/lib/python3.8/site-packages/mir_eval/transcription_velocity.py:185: FutureWarning: `rcond` parameter will change to the default of machine precision times ``max(M, N)`` where M and N are the input matrix dimensions.\n",
      "To use the future default and silence this warning we advise to pass `rcond=None`, to keep using the old, explicitly pass `rcond=-1`.\n",
      "  slope, intercept = np.linalg.lstsq(\n"
     ]
    }
   ],
   "source": [
    "midi_path = midi_files[4]\n",
    "ref_ns = note_seq.midi_file_to_note_sequence(midi_path)\n",
    "note_sequences.validate_note_sequence(ref_ns)\n",
    "ref_ns = note_seq.apply_sustain_control_changes(ref_ns)\n",
    "output_1 = evaluation_mir_eval(ref_ns, greedy_batch_ns)"
   ]
  },
  {
   "cell_type": "code",
   "execution_count": 9,
   "metadata": {},
   "outputs": [
    {
     "data": {
      "text/plain": [
       "{'Onset precision': 0.9500348594004183,\n",
       " 'Onset recall': 0.8538011695906432,\n",
       " 'Onset F1': 0.899351006489935,\n",
       " 'Onset + offset precision': 0.6943992563327911,\n",
       " 'Onset + offset recall': 0.6240601503759399,\n",
       " 'Onset + offset F1': 0.6573534264657354,\n",
       " 'Onset + velocity precision': 0.9140134789681618,\n",
       " 'Onset + velocity recall': 0.8214285714285714,\n",
       " 'Onset + velocity F1': 0.8652513474865251,\n",
       " 'Onset + offset + velocity precision': 0.6693004880316059,\n",
       " 'Onset + offset + velocity recall': 0.6015037593984962,\n",
       " 'Onset + offset + velocity F1': 0.6335936640633594}"
      ]
     },
     "execution_count": 9,
     "metadata": {},
     "output_type": "execute_result"
    }
   ],
   "source": [
    "output_1"
   ]
  },
  {
   "cell_type": "code",
   "execution_count": 6,
   "metadata": {},
   "outputs": [
    {
     "name": "stderr",
     "output_type": "stream",
     "text": [
      "  0%|          | 0/125 [00:00<?, ?it/s]/home/ubuntu/anaconda3/envs/pytorch_p38/lib/python3.8/site-packages/mir_eval/transcription_velocity.py:185: FutureWarning: `rcond` parameter will change to the default of machine precision times ``max(M, N)`` where M and N are the input matrix dimensions.\n",
      "To use the future default and silence this warning we advise to pass `rcond=None`, to keep using the old, explicitly pass `rcond=-1`.\n",
      "  slope, intercept = np.linalg.lstsq(\n",
      "100%|██████████| 125/125 [21:38<00:00, 10.39s/it]\n"
     ]
    }
   ],
   "source": [
    "final_output = []\n",
    "for audio, midi in tqdm(zip(final_files, midi_files), total=len(final_files)):\n",
    "    data = torch.load(audio)\n",
    "    greedy_batch_ns = make_batch_pred_ns(data, config, codec, vocab, model, is_gpu=True)\n",
    "    midi_path = midi\n",
    "    ref_ns = note_seq.midi_file_to_note_sequence(midi_path)\n",
    "    note_sequences.validate_note_sequence(ref_ns)\n",
    "    ref_ns = note_seq.apply_sustain_control_changes(ref_ns)\n",
    "    output = evaluation_mir_eval(ref_ns, greedy_batch_ns)\n",
    "    final_output.append(output)"
   ]
  },
  {
   "cell_type": "code",
   "execution_count": 7,
   "metadata": {},
   "outputs": [],
   "source": [
    "onset_f1 = []\n",
    "onset_offset_f1 = []\n",
    "onset_offset_velocity_f1 = []\n",
    "\n",
    "for output in final_output:\n",
    "    onset_f1.append(output['Onset F1'])\n",
    "    onset_offset_f1.append(output['Onset + offset F1'])\n",
    "    onset_offset_velocity_f1.append(output['Onset + offset + velocity F1'])"
   ]
  },
  {
   "cell_type": "code",
   "execution_count": 13,
   "metadata": {},
   "outputs": [
    {
     "name": "stdout",
     "output_type": "stream",
     "text": [
      "['fuck', [100]]\n"
     ]
    }
   ],
   "source": [
    "test = [[0,2,3,4,5,56],[100]]\n",
    "check = []\n",
    "for i in test:\n",
    "    try: \n",
    "        test=i.index(100)\n",
    "        check.append(i)\n",
    "    except:\n",
    "        check.append(\"fuck\")\n",
    "print(check)"
   ]
  },
  {
   "cell_type": "code",
   "execution_count": 10,
   "metadata": {},
   "outputs": [
    {
     "data": {
      "image/png": "[encoded data removed]",
      "text/plain": [
       "<Figure size 576x432 with 1 Axes>"
      ]
     },
     "metadata": {
      "needs_background": "light"
     },
     "output_type": "display_data"
    }
   ],
   "source": [
    "import pandas as pd\n",
    "plot_data = [onset_f1, onset_offset_f1, onset_offset_velocity_f1]\n",
    "df = pd.DataFrame(plot_data).transpose()\n",
    "df.columns= ['Onset F1', 'Onset + offset F1','Onset + offset + velocity F1']\n",
    "boxplot = df.boxplot(column=['Onset F1', 'Onset + offset F1','Onset + offset + velocity F1'],figsize=(8,6))"
   ]
  },
  {
   "cell_type": "code",
   "execution_count": 14,
   "metadata": {},
   "outputs": [
    {
     "name": "stdout",
     "output_type": "stream",
     "text": [
      "[[0.9005913316701326, [0.9769462078182426, (array([88]),)], [0.7780534877309071, (array([33]),)]], [0.6580888297622013, [0.8396271132880392, (array([100]),)], [0.4502847130968024, (array([21]),)]], [0.6359060123798479, [0.8332776478449715, (array([88]),)], [0.4231274638633377, (array([21]),)]]]\n"
     ]
    }
   ],
   "source": [
    "info_data = []\n",
    "for i in plot_data:\n",
    "    mean = np.mean(i)\n",
    "    max = np.max(i)\n",
    "    max_index = np.where(i==max)\n",
    "    min = np.min(i)\n",
    "    min_index = np.where(i==min)\n",
    "    info_data.append([mean,[max, max_index],[min, min_index]])\n",
    "\n",
    "print(info_data)"
   ]
  },
  {
   "cell_type": "code",
   "execution_count": 18,
   "metadata": {},
   "outputs": [
    {
     "name": "stdout",
     "output_type": "stream",
     "text": [
      "/home/ubuntu/seq2seq-music-transcription/data/MAESTRO/2017/MIDI-Unprocessed_053_PIANO053_MID--AUDIO-split_07-06-17_Piano-e_3-04_wav--1.midi\n",
      "/home/ubuntu/seq2seq-music-transcription/data/MAESTRO/2017/MIDI-Unprocessed_066_PIANO066_MID--AUDIO-split_07-07-17_Piano-e_3-02_wav--2.midi\n",
      "/home/ubuntu/seq2seq-music-transcription/data/MAESTRO/2013/ORIG-MIDI_01_7_7_13_Group__MID--AUDIO_11_R1_2013_wav--4.midi\n",
      "/home/ubuntu/seq2seq-music-transcription/data/MAESTRO/2008/MIDI-Unprocessed_15_R2_2008_01-04_ORIG_MID--AUDIO_15_R2_2008_wav--4.midi\n",
      "0.7829610162067455\n",
      "0.5596912048524952\n",
      "0.5234812976748461\n"
     ]
    }
   ],
   "source": [
    "print(midi_files[88])\n",
    "print(midi_files[100])\n",
    "print(midi_files[33])\n",
    "print(midi_files[21])\n",
    "print(onset_f1[21])\n",
    "print(onset_offset_f1[33])\n",
    "print(onset_offset_velocity_f1[33])"
   ]
  },
  {
   "cell_type": "code",
   "execution_count": 19,
   "metadata": {},
   "outputs": [
    {
     "ename": "NameError",
     "evalue": "name 'ns' is not defined",
     "output_type": "error",
     "traceback": [
      "\u001b[0;31m---------------------------------------------------------------------------\u001b[0m",
      "\u001b[0;31mNameError\u001b[0m                                 Traceback (most recent call last)",
      "\u001b[0;32m/tmp/ipykernel_10344/3305994542.py\u001b[0m in \u001b[0;36m<cell line: 1>\u001b[0;34m()\u001b[0m\n\u001b[0;32m----> 1\u001b[0;31m \u001b[0mpm\u001b[0m \u001b[0;34m=\u001b[0m \u001b[0mnote_seq\u001b[0m\u001b[0;34m.\u001b[0m\u001b[0mnote_sequence_to_pretty_midi\u001b[0m\u001b[0;34m(\u001b[0m\u001b[0mns\u001b[0m\u001b[0;34m)\u001b[0m\u001b[0;34m\u001b[0m\u001b[0;34m\u001b[0m\u001b[0m\n\u001b[0m\u001b[1;32m      2\u001b[0m \u001b[0;32mfor\u001b[0m \u001b[0minst\u001b[0m \u001b[0;32min\u001b[0m \u001b[0mpm\u001b[0m\u001b[0;34m.\u001b[0m\u001b[0minstruments\u001b[0m\u001b[0;34m:\u001b[0m\u001b[0;34m\u001b[0m\u001b[0;34m\u001b[0m\u001b[0m\n\u001b[1;32m      3\u001b[0m     \u001b[0minst\u001b[0m\u001b[0;34m.\u001b[0m\u001b[0mis_drum\u001b[0m \u001b[0;34m=\u001b[0m \u001b[0;32mFalse\u001b[0m\u001b[0;34m\u001b[0m\u001b[0;34m\u001b[0m\u001b[0m\n",
      "\u001b[0;31mNameError\u001b[0m: name 'ns' is not defined"
     ]
    }
   ],
   "source": [
    "pm = note_seq.note_sequence_to_pretty_midi(ns)\n",
    "for inst in pm.instruments:\n",
    "    inst.is_drum = False"
   ]
  },
  {
   "cell_type": "code",
   "execution_count": 20,
   "metadata": {},
   "outputs": [
    {
     "ename": "NameError",
     "evalue": "name 'pm' is not defined",
     "output_type": "error",
     "traceback": [
      "\u001b[0;31m---------------------------------------------------------------------------\u001b[0m",
      "\u001b[0;31mNameError\u001b[0m                                 Traceback (most recent call last)",
      "\u001b[0;32m/tmp/ipykernel_10344/703529645.py\u001b[0m in \u001b[0;36m<cell line: 1>\u001b[0;34m()\u001b[0m\n\u001b[0;32m----> 1\u001b[0;31m \u001b[0mref_pianoroll\u001b[0m \u001b[0;34m=\u001b[0m \u001b[0mpm\u001b[0m\u001b[0;34m.\u001b[0m\u001b[0mget_piano_roll\u001b[0m\u001b[0;34m(\u001b[0m\u001b[0mfs\u001b[0m\u001b[0;34m=\u001b[0m\u001b[0;36m62.5\u001b[0m\u001b[0;34m)\u001b[0m\u001b[0;34m\u001b[0m\u001b[0;34m\u001b[0m\u001b[0m\n\u001b[0m\u001b[1;32m      2\u001b[0m \u001b[0;32mdef\u001b[0m \u001b[0mplot_piano_roll\u001b[0m\u001b[0;34m(\u001b[0m\u001b[0mpm\u001b[0m\u001b[0;34m,\u001b[0m \u001b[0mstart_pitch\u001b[0m\u001b[0;34m,\u001b[0m \u001b[0mend_pitch\u001b[0m\u001b[0;34m,\u001b[0m \u001b[0mfs\u001b[0m\u001b[0;34m=\u001b[0m\u001b[0;36m62.5\u001b[0m\u001b[0;34m)\u001b[0m\u001b[0;34m:\u001b[0m\u001b[0;34m\u001b[0m\u001b[0;34m\u001b[0m\u001b[0m\n\u001b[1;32m      3\u001b[0m     \u001b[0;31m# Use librosa's specshow function for displaying the piano roll\u001b[0m\u001b[0;34m\u001b[0m\u001b[0;34m\u001b[0m\u001b[0;34m\u001b[0m\u001b[0m\n\u001b[1;32m      4\u001b[0m     librosa.display.specshow(pm.get_piano_roll(fs)[start_pitch:end_pitch],\n\u001b[1;32m      5\u001b[0m                              \u001b[0mhop_length\u001b[0m\u001b[0;34m=\u001b[0m\u001b[0;36m1\u001b[0m\u001b[0;34m,\u001b[0m \u001b[0msr\u001b[0m\u001b[0;34m=\u001b[0m\u001b[0mfs\u001b[0m\u001b[0;34m,\u001b[0m \u001b[0mx_axis\u001b[0m\u001b[0;34m=\u001b[0m\u001b[0;34m'time'\u001b[0m\u001b[0;34m,\u001b[0m \u001b[0my_axis\u001b[0m\u001b[0;34m=\u001b[0m\u001b[0;34m'cqt_note'\u001b[0m\u001b[0;34m,\u001b[0m\u001b[0;34m\u001b[0m\u001b[0;34m\u001b[0m\u001b[0m\n",
      "\u001b[0;31mNameError\u001b[0m: name 'pm' is not defined"
     ]
    }
   ],
   "source": [
    "ref_pianoroll = pm.get_piano_roll(fs=62.5)\n",
    "def plot_piano_roll(pm, start_pitch, end_pitch, fs=62.5):\n",
    "    # Use librosa's specshow function for displaying the piano roll\n",
    "    librosa.display.specshow(pm.get_piano_roll(fs)[start_pitch:end_pitch],\n",
    "                             hop_length=1, sr=fs, x_axis='time', y_axis='cqt_note',\n",
    "                             fmin=pretty_midi.note_number_to_hz(start_pitch))\n",
    "\n",
    "plt.figure(figsize=(8, 4))\n",
    "plot_piano_roll(pm, 0, 127)"
   ]
  },
  {
   "cell_type": "code",
   "execution_count": 22,
   "metadata": {},
   "outputs": [],
   "source": [
    "check_midi=[33,21,100, 88]\n",
    "for i in check_midi:\n",
    "    data = torch.load(final_files[i])\n",
    "    greedy_batch_ns = make_batch_pred_ns(data, config, codec, vocab, model, is_gpu=True)\n",
    "    note_seq.note_sequence_to_midi_file(greedy_batch_ns, f\"{i}_predicted.mid\")"
   ]
  },
  {
   "cell_type": "code",
   "execution_count": null,
   "metadata": {},
   "outputs": [],
   "source": [
    "for audio, midi in tqdm(zip(final_files, midi_files), total=len(final_files)):\n",
    "    data = torch.load(audio)\n",
    "    greedy_batch_ns = make_batch_pred_ns(data, config, codec, vocab, model, is_gpu=True)\n",
    "    midi_path = midi\n",
    "    ref_ns = note_seq.midi_file_to_note_sequence(midi_path)\n",
    "    note_sequences.validate_note_sequence(ref_ns)\n",
    "    ref_ns = note_seq.apply_sustain_control_changes(ref_ns)\n",
    "    output = evaluation_mir_eval(ref_ns, greedy_batch_ns)\n",
    "    final_output.append(output)"
   ]
  }
 ],
 "metadata": {
  "interpreter": {
   "hash": "821f3860854be6a3325f5c12fafde2b8c9741f955fd2d720c03e1dc648762424"
  },
  "kernelspec": {
   "display_name": "Python 3.8.5 ('base')",
   "language": "python",
   "name": "python3"
  },
  "language_info": {
   "codemirror_mode": {
    "name": "ipython",
    "version": 3
   },
   "file_extension": ".py",
   "mimetype": "text/x-python",
   "name": "python",
   "nbconvert_exporter": "python",
   "pygments_lexer": "ipython3",
   "version": "3.8.12"
  },
  "orig_nbformat": 4
 },
 "nbformat": 4,
 "nbformat_minor": 2
}
